{
 "cells": [
  {
   "cell_type": "code",
   "execution_count": 1,
   "metadata": {},
   "outputs": [],
   "source": [
    "from yasearch.storing.polars import POLARStore\n",
    "\n",
    "import os\n",
    "from pathlib import Path\n",
    "import polars as pl\n",
    "from typing import Optional, Union, List, Dict\n",
    "from loguru import logger"
   ]
  },
  {
   "cell_type": "code",
   "execution_count": 2,
   "metadata": {},
   "outputs": [],
   "source": [
    "filepath = Path.home() / \"IDataset\" / \"yappi_hackaton_2024_400k.csv\""
   ]
  },
  {
   "cell_type": "code",
   "execution_count": 3,
   "metadata": {},
   "outputs": [],
   "source": [
    "docs_df = pl.read_csv(filepath)"
   ]
  },
  {
   "cell_type": "code",
   "execution_count": 4,
   "metadata": {},
   "outputs": [],
   "source": [
    "docs_df = docs_df.filter(pl.col(\"description\").is_not_null())"
   ]
  },
  {
   "cell_type": "code",
   "execution_count": 5,
   "metadata": {},
   "outputs": [
    {
     "name": "stderr",
     "output_type": "stream",
     "text": [
      "\u001b[32m2024-06-14 21:28:11.882\u001b[0m | \u001b[1mINFO    \u001b[0m | \u001b[36m__main__\u001b[0m:\u001b[36m<module>\u001b[0m:\u001b[36m1\u001b[0m - \u001b[1mThere're total 345081 samples\u001b[0m\n"
     ]
    }
   ],
   "source": [
    "logger.info(f\"There're total {docs_df.shape[0]} samples\")"
   ]
  },
  {
   "cell_type": "code",
   "execution_count": 6,
   "metadata": {},
   "outputs": [],
   "source": [
    "store = POLARStore(df=docs_df)"
   ]
  },
  {
   "cell_type": "code",
   "execution_count": 7,
   "metadata": {},
   "outputs": [],
   "source": [
    "pl_observation = pl.concat(store.random_sample(sample_size=1_000, num_obs=10))"
   ]
  },
  {
   "cell_type": "code",
   "execution_count": 8,
   "metadata": {},
   "outputs": [],
   "source": [
    "stopchars = \"🤫!@#$&*~`,\"\n",
    "column = \"description\""
   ]
  },
  {
   "cell_type": "code",
   "execution_count": 9,
   "metadata": {},
   "outputs": [],
   "source": [
    "pl_counts_per_word = store.count_words_per_col(col=column, stopchars=stopchars)"
   ]
  },
  {
   "cell_type": "code",
   "execution_count": 10,
   "metadata": {},
   "outputs": [],
   "source": [
    "pl_top = pl_counts_per_word.filter(pl.col(\"counts\") >= 1_000)"
   ]
  },
  {
   "cell_type": "code",
   "execution_count": 11,
   "metadata": {},
   "outputs": [
    {
     "data": {
      "text/html": [
       "<div><style>\n",
       ".dataframe > thead > tr,\n",
       ".dataframe > tbody > tr {\n",
       "  text-align: right;\n",
       "  white-space: pre-wrap;\n",
       "}\n",
       "</style>\n",
       "<small>shape: (5, 2)</small><table border=\"1\" class=\"dataframe\"><thead><tr><th>words</th><th>counts</th></tr><tr><td>str</td><td>u32</td></tr></thead><tbody><tr><td>&quot;boobs&quot;</td><td>36802</td></tr><tr><td>&quot;красивыедевушк…</td><td>36064</td></tr><tr><td>&quot;бьютирутина&quot;</td><td>28271</td></tr><tr><td>&quot;наспорте&quot;</td><td>28061</td></tr><tr><td>&quot;спорт&quot;</td><td>27550</td></tr></tbody></table></div>"
      ],
      "text/plain": [
       "shape: (5, 2)\n",
       "┌─────────────────┬────────┐\n",
       "│ words           ┆ counts │\n",
       "│ ---             ┆ ---    │\n",
       "│ str             ┆ u32    │\n",
       "╞═════════════════╪════════╡\n",
       "│ boobs           ┆ 36802  │\n",
       "│ красивыедевушки ┆ 36064  │\n",
       "│ бьютирутина     ┆ 28271  │\n",
       "│ наспорте        ┆ 28061  │\n",
       "│ спорт           ┆ 27550  │\n",
       "└─────────────────┴────────┘"
      ]
     },
     "execution_count": 11,
     "metadata": {},
     "output_type": "execute_result"
    }
   ],
   "source": [
    "pl_top.head()"
   ]
  },
  {
   "cell_type": "code",
   "execution_count": 12,
   "metadata": {},
   "outputs": [],
   "source": [
    "def visualize_as_bar(\n",
    "    arr: List[Dict],\n",
    "    logo_path: Optional[Union[str, Path]] = None,\n",
    "    logo_text: Optional[str] = None,\n",
    "    x_axis_title: str = \"X\",\n",
    "    title: str = None,\n",
    "    y_axis_title: str = \"Y\",\n",
    "    logo_text_size: int = 7):\n",
    "\n",
    "    import plotly.graph_objects as go\n",
    "\n",
    "    title = f\"Distribution {y_axis_title}={y_axis_title}({x_axis_title})\"\n",
    "    \n",
    "    xs = [xi.get(\"name\", \"None\") for xi in arr]\n",
    "    vs = [xi.get(\"value\", 0) for xi in arr]\n",
    "\n",
    "    bar_color = 'rgba(253, 246, 48, 0.4)',\n",
    "    border_color = 'rgba(253, 246, 48, 1)'\n",
    "    text_color = 'rgba(255, 255, 255, 1)'   # Неоново-желтый цвет\n",
    "    grid_color = 'rgba(253, 246, 48, 0.2)' # Неоново-желтый цвет\n",
    "\n",
    "    fig = go.Figure([go.Bar(\n",
    "        x=xs, y=vs,\n",
    "        marker=dict(color=bar_color, line=dict(color=border_color, width=2))\n",
    "        )\n",
    "    ])\n",
    "\n",
    "    fig.update_layout(\n",
    "        title=title,\n",
    "        title_font=dict(size=24, color=text_color),\n",
    "        paper_bgcolor='rgba(0, 0, 0, 1)',\n",
    "        plot_bgcolor='rgba(0, 0, 0, 1)',\n",
    "        xaxis_title=x_axis_title,\n",
    "        yaxis_title=y_axis_title,\n",
    "        xaxis=dict(tickangle=-45, color=text_color, title_font=dict(size=18),\n",
    "                   tickfont=dict(size=10)),\n",
    "        yaxis=dict(color=text_color, title_font=dict(size=18)),\n",
    "        font=dict(family=\"Courier New, monospace\", size=15, color=text_color)\n",
    "    )\n",
    "\n",
    "    # Добавление сетки в стиле киберпанк\n",
    "    fig.update_xaxes(showgrid=True, gridwidth=1, gridcolor=grid_color)\n",
    "    fig.update_yaxes(showgrid=True, gridwidth=1, gridcolor=grid_color)\n",
    "\n",
    "    if logo_path:\n",
    "        import base64\n",
    "        with open(str(logo_path), \"rb\") as image_file:\n",
    "            encoded_image = base64.b64encode(image_file.read()).decode()\n",
    "        \n",
    "        fig.add_layout_image(\n",
    "            dict(\n",
    "                source=\"data:image/png;base64,\" + encoded_image,\n",
    "                xref=\"paper\",\n",
    "                yref=\"paper\",\n",
    "                x=1,\n",
    "                y=1.05,\n",
    "                sizex=0.2,\n",
    "                sizey=0.2,\n",
    "                xanchor=\"right\",\n",
    "                yanchor=\"bottom\"\n",
    "            )\n",
    "        )\n",
    "        if logo_text:\n",
    "            fig.add_annotation(\n",
    "                x=1,\n",
    "                y=1.05,\n",
    "                text=logo_text,\n",
    "                showarrow=False,\n",
    "                xref=\"paper\", yref=\"paper\",\n",
    "                xanchor=\"right\",\n",
    "                yanchor=\"top\",\n",
    "                font=dict(size=logo_text_size, color=\"yellow\")\n",
    "            )\n",
    "\n",
    "    return fig"
   ]
  },
  {
   "cell_type": "code",
   "execution_count": 13,
   "metadata": {},
   "outputs": [],
   "source": [
    "xs, ys = pl_top.select(\"words\").to_series().to_list(), pl_top.select(\"counts\").to_series().to_list()"
   ]
  },
  {
   "cell_type": "code",
   "execution_count": 15,
   "metadata": {},
   "outputs": [],
   "source": [
    "fig = visualize_as_bar(arr=[{\"name\": xi, \"value\": yi} for xi, yi in zip(xs, ys)], x_axis_title=\"Word\", y_axis_title=\"СOUNT\", logo_path=Path(os.getcwd()) / \".data\" / \"polaroids.ai.logo.png\", logo_text=\"Powered by polaroids.ai\")"
   ]
  },
  {
   "cell_type": "code",
   "execution_count": 16,
   "metadata": {},
   "outputs": [],
   "source": [
    "width, height, dpi = None, None, 360\n",
    "fig.write_image(\"counts(word)_curve.png\", format='png', width=width, height=height, scale=dpi/72, engine='kaleido')"
   ]
  },
  {
   "cell_type": "code",
   "execution_count": 6,
   "metadata": {},
   "outputs": [],
   "source": [
    "fpaths = [\n",
    "    Path.home() / \"IDataset\" / \"YAPPI\" / \"top-390_transcript_response_sheks.csv\",\n",
    "    Path.home() / \"IDataset\" / \"YAPPI\" / \"top-200x16_after_batch_transcript_response_mine.csv\",\n",
    "    Path.home() / \"IDataset\" / \"YAPPI\" / \"top-20_transcript_response-2_first_try.csv\",\n",
    "    Path.home() / \"IDataset\" / \"YAPPI\" / \"top-30_transcript_ege2023_response.csv\",\n",
    "    Path.home() / \"IDataset\" / \"YAPPI\" / \"top-220_transcript_movie_response.csv\",\n",
    "    Path.home() / \"IDataset\" / \"YAPPI\" / \"top-x_transcript_movie_response.csv\",\n",
    "    Path.home() / \"IDataset\" / \"YAPPI\" / \"top-y_transcript_movie_response.csv\",\n",
    "    Path.home() / \"IDataset\" / \"YAPPI\" / \"top-710_transcript_movie_response.csv\",\n",
    "    Path.home() / \"IDataset\" / \"YAPPI\" / \"top-140_transcript_игры_videogames_response.csv\",\n",
    "    Path.home() / \"IDataset\" / \"YAPPI\" / \"top-330_transcript_игры_videogames_response.csv\"\n",
    "]"
   ]
  },
  {
   "cell_type": "code",
   "execution_count": 7,
   "metadata": {},
   "outputs": [],
   "source": [
    "pl_res = pl.concat([\n",
    "    pl.read_csv(fp) for fp in fpaths\n",
    "])"
   ]
  },
  {
   "cell_type": "code",
   "execution_count": 8,
   "metadata": {},
   "outputs": [
    {
     "data": {
      "text/html": [
       "<div><style>\n",
       ".dataframe > thead > tr,\n",
       ".dataframe > tbody > tr {\n",
       "  text-align: right;\n",
       "  white-space: pre-wrap;\n",
       "}\n",
       "</style>\n",
       "<small>shape: (5, 2)</small><table border=\"1\" class=\"dataframe\"><thead><tr><th>url</th><th>ans</th></tr><tr><td>str</td><td>str</td></tr></thead><tbody><tr><td>&quot;https://cdn-st…</td><td>&quot;1\n",
       " 00:00:00,00…</td></tr><tr><td>&quot;https://cdn-st…</td><td>&quot;&quot;</td></tr><tr><td>&quot;https://cdn-st…</td><td>&quot;1\n",
       " 00:00:00,00…</td></tr><tr><td>&quot;https://cdn-st…</td><td>&quot;1\n",
       " 00:00:00,00…</td></tr><tr><td>&quot;https://cdn-st…</td><td>&quot;1\n",
       " 00:00:00,00…</td></tr></tbody></table></div>"
      ],
      "text/plain": [
       "shape: (5, 2)\n",
       "┌───────────────────────────────────┬─────────────────────────────────┐\n",
       "│ url                               ┆ ans                             │\n",
       "│ ---                               ┆ ---                             │\n",
       "│ str                               ┆ str                             │\n",
       "╞═══════════════════════════════════╪═════════════════════════════════╡\n",
       "│ https://cdn-st.rutubelist.ru/med… ┆ 1                               │\n",
       "│                                   ┆  00:00:00,000 --> 00:00:02,520… │\n",
       "│ https://cdn-st.rutubelist.ru/med… ┆                                 │\n",
       "│ https://cdn-st.rutubelist.ru/med… ┆ 1                               │\n",
       "│                                   ┆  00:00:00,000 --> 00:00:12,240… │\n",
       "│ https://cdn-st.rutubelist.ru/med… ┆ 1                               │\n",
       "│                                   ┆  00:00:00,000 --> 00:00:05,679… │\n",
       "│ https://cdn-st.rutubelist.ru/med… ┆ 1                               │\n",
       "│                                   ┆  00:00:00,000 --> 00:00:07,600… │\n",
       "└───────────────────────────────────┴─────────────────────────────────┘"
      ]
     },
     "execution_count": 8,
     "metadata": {},
     "output_type": "execute_result"
    }
   ],
   "source": [
    "pl_res.head()"
   ]
  },
  {
   "cell_type": "code",
   "execution_count": 9,
   "metadata": {},
   "outputs": [
    {
     "data": {
      "text/html": [
       "<div><style>\n",
       ".dataframe > thead > tr,\n",
       ".dataframe > tbody > tr {\n",
       "  text-align: right;\n",
       "  white-space: pre-wrap;\n",
       "}\n",
       "</style>\n",
       "<small>shape: (5, 2)</small><table border=\"1\" class=\"dataframe\"><thead><tr><th>link</th><th>description</th></tr><tr><td>str</td><td>str</td></tr></thead><tbody><tr><td>&quot;https://cdn-st…</td><td>&quot;#нарезкистримо…</td></tr><tr><td>&quot;https://cdn-st…</td><td>&quot;🤫НЕ ВВОДИ ЭТУ …</td></tr><tr><td>&quot;https://cdn-st…</td><td>&quot;#boobs , #крас…</td></tr><tr><td>&quot;https://cdn-st…</td><td>&quot;#diy #постанов…</td></tr><tr><td>&quot;https://cdn-st…</td><td>&quot;#образ #lookbo…</td></tr></tbody></table></div>"
      ],
      "text/plain": [
       "shape: (5, 2)\n",
       "┌───────────────────────────────────┬───────────────────────────────────┐\n",
       "│ link                              ┆ description                       │\n",
       "│ ---                               ┆ ---                               │\n",
       "│ str                               ┆ str                               │\n",
       "╞═══════════════════════════════════╪═══════════════════════════════════╡\n",
       "│ https://cdn-st.rutubelist.ru/med… ┆ #нарезкистримов , #dota2 , #cs2 … │\n",
       "│ https://cdn-st.rutubelist.ru/med… ┆ 🤫НЕ ВВОДИ ЭТУ КОМАНДУ В РОБЛОКС  │\n",
       "│                                   ┆ …                                 │\n",
       "│ https://cdn-st.rutubelist.ru/med… ┆ #boobs , #красивыедевушки , #ass  │\n",
       "│ https://cdn-st.rutubelist.ru/med… ┆ #diy #постановка #юмор #комедия   │\n",
       "│ https://cdn-st.rutubelist.ru/med… ┆ #образ #lookbook #показ #неделям… │\n",
       "└───────────────────────────────────┴───────────────────────────────────┘"
      ]
     },
     "execution_count": 9,
     "metadata": {},
     "output_type": "execute_result"
    }
   ],
   "source": [
    "docs_df.head()"
   ]
  },
  {
   "cell_type": "code",
   "execution_count": 10,
   "metadata": {},
   "outputs": [
    {
     "data": {
      "text/plain": [
       "345081"
      ]
     },
     "execution_count": 10,
     "metadata": {},
     "output_type": "execute_result"
    }
   ],
   "source": [
    "docs_df.shape[0]"
   ]
  },
  {
   "cell_type": "code",
   "execution_count": 11,
   "metadata": {},
   "outputs": [],
   "source": [
    "pl_res = pl_res.unique(\"url\")"
   ]
  },
  {
   "cell_type": "code",
   "execution_count": 13,
   "metadata": {},
   "outputs": [],
   "source": [
    "pl_docs = docs_df.rename({\"link\": \"url\"})"
   ]
  },
  {
   "cell_type": "code",
   "execution_count": 14,
   "metadata": {},
   "outputs": [
    {
     "data": {
      "text/html": [
       "<div><style>\n",
       ".dataframe > thead > tr,\n",
       ".dataframe > tbody > tr {\n",
       "  text-align: right;\n",
       "  white-space: pre-wrap;\n",
       "}\n",
       "</style>\n",
       "<small>shape: (5, 2)</small><table border=\"1\" class=\"dataframe\"><thead><tr><th>url</th><th>description</th></tr><tr><td>str</td><td>str</td></tr></thead><tbody><tr><td>&quot;https://cdn-st…</td><td>&quot;#нарезкистримо…</td></tr><tr><td>&quot;https://cdn-st…</td><td>&quot;🤫НЕ ВВОДИ ЭТУ …</td></tr><tr><td>&quot;https://cdn-st…</td><td>&quot;#boobs , #крас…</td></tr><tr><td>&quot;https://cdn-st…</td><td>&quot;#diy #постанов…</td></tr><tr><td>&quot;https://cdn-st…</td><td>&quot;#образ #lookbo…</td></tr></tbody></table></div>"
      ],
      "text/plain": [
       "shape: (5, 2)\n",
       "┌───────────────────────────────────┬───────────────────────────────────┐\n",
       "│ url                               ┆ description                       │\n",
       "│ ---                               ┆ ---                               │\n",
       "│ str                               ┆ str                               │\n",
       "╞═══════════════════════════════════╪═══════════════════════════════════╡\n",
       "│ https://cdn-st.rutubelist.ru/med… ┆ #нарезкистримов , #dota2 , #cs2 … │\n",
       "│ https://cdn-st.rutubelist.ru/med… ┆ 🤫НЕ ВВОДИ ЭТУ КОМАНДУ В РОБЛОКС  │\n",
       "│                                   ┆ …                                 │\n",
       "│ https://cdn-st.rutubelist.ru/med… ┆ #boobs , #красивыедевушки , #ass  │\n",
       "│ https://cdn-st.rutubelist.ru/med… ┆ #diy #постановка #юмор #комедия   │\n",
       "│ https://cdn-st.rutubelist.ru/med… ┆ #образ #lookbook #показ #неделям… │\n",
       "└───────────────────────────────────┴───────────────────────────────────┘"
      ]
     },
     "execution_count": 14,
     "metadata": {},
     "output_type": "execute_result"
    }
   ],
   "source": [
    "pl_docs.head()"
   ]
  },
  {
   "cell_type": "code",
   "execution_count": 17,
   "metadata": {},
   "outputs": [],
   "source": [
    "pl_res = pl_docs.join(pl_res, on=\"url\", how=\"inner\")"
   ]
  },
  {
   "cell_type": "code",
   "execution_count": 18,
   "metadata": {},
   "outputs": [
    {
     "name": "stdout",
     "output_type": "stream",
     "text": [
      "22923\n"
     ]
    },
    {
     "data": {
      "text/html": [
       "<div><style>\n",
       ".dataframe > thead > tr,\n",
       ".dataframe > tbody > tr {\n",
       "  text-align: right;\n",
       "  white-space: pre-wrap;\n",
       "}\n",
       "</style>\n",
       "<small>shape: (5, 3)</small><table border=\"1\" class=\"dataframe\"><thead><tr><th>url</th><th>description</th><th>ans</th></tr><tr><td>str</td><td>str</td><td>str</td></tr></thead><tbody><tr><td>&quot;https://cdn-st…</td><td>&quot;#егэ2023 , #ог…</td><td>&quot;1\n",
       " 00:00:00,00…</td></tr><tr><td>&quot;https://cdn-st…</td><td>&quot;#кино #movie #…</td><td>&quot;1\n",
       " 00:00:00,00…</td></tr><tr><td>&quot;https://cdn-st…</td><td>&quot;#егэ2023 , #ог…</td><td>&quot;1\n",
       " 00:00:00,00…</td></tr><tr><td>&quot;https://cdn-st…</td><td>&quot;#егэ2023 , #ог…</td><td>&quot;1\n",
       " 00:00:00,00…</td></tr><tr><td>&quot;https://cdn-st…</td><td>&quot;#егэ2023 , #ог…</td><td>&quot;1\n",
       " 00:00:00,00…</td></tr></tbody></table></div>"
      ],
      "text/plain": [
       "shape: (5, 3)\n",
       "┌────────────────────────────────┬────────────────────────────────┬────────────────────────────────┐\n",
       "│ url                            ┆ description                    ┆ ans                            │\n",
       "│ ---                            ┆ ---                            ┆ ---                            │\n",
       "│ str                            ┆ str                            ┆ str                            │\n",
       "╞════════════════════════════════╪════════════════════════════════╪════════════════════════════════╡\n",
       "│ https://cdn-st.rutubelist.ru/m ┆ #егэ2023 , #огэ2023 , #наука , ┆ 1                              │\n",
       "│ ed…                            ┆ #…                             ┆ 00:00:00,000 --> 00:00:03,160… │\n",
       "│ https://cdn-st.rutubelist.ru/m ┆ #кино #movie #film #фильм      ┆ 1                              │\n",
       "│ ed…                            ┆ #сериа…                        ┆ 00:00:00,000 --> 00:00:04,000… │\n",
       "│ https://cdn-st.rutubelist.ru/m ┆ #егэ2023 , #огэ2023 , #наука , ┆ 1                              │\n",
       "│ ed…                            ┆ #…                             ┆ 00:00:00,000 --> 00:00:01,919… │\n",
       "│ https://cdn-st.rutubelist.ru/m ┆ #егэ2023 , #огэ2023 , #наука , ┆ 1                              │\n",
       "│ ed…                            ┆ #…                             ┆ 00:00:00,000 --> 00:00:03,000… │\n",
       "│ https://cdn-st.rutubelist.ru/m ┆ #егэ2023 , #огэ2023 , #наука , ┆ 1                              │\n",
       "│ ed…                            ┆ #…                             ┆ 00:00:00,000 --> 00:00:02,439… │\n",
       "└────────────────────────────────┴────────────────────────────────┴────────────────────────────────┘"
      ]
     },
     "execution_count": 18,
     "metadata": {},
     "output_type": "execute_result"
    }
   ],
   "source": [
    "print(pl_res.shape[0])\n",
    "pl_res.head() # -> content"
   ]
  },
  {
   "cell_type": "code",
   "execution_count": 41,
   "metadata": {},
   "outputs": [],
   "source": [
    "pl_res.write_csv(f\"yappi-whispered.csv\")"
   ]
  },
  {
   "cell_type": "code",
   "execution_count": null,
   "metadata": {},
   "outputs": [],
   "source": []
  }
 ],
 "metadata": {
  "kernelspec": {
   "display_name": "polaroids",
   "language": "python",
   "name": "python3"
  },
  "language_info": {
   "codemirror_mode": {
    "name": "ipython",
    "version": 3
   },
   "file_extension": ".py",
   "mimetype": "text/x-python",
   "name": "python",
   "nbconvert_exporter": "python",
   "pygments_lexer": "ipython3",
   "version": "3.11.5"
  }
 },
 "nbformat": 4,
 "nbformat_minor": 2
}
