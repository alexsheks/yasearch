{
 "cells": [
  {
   "cell_type": "code",
   "execution_count": 1,
   "metadata": {},
   "outputs": [],
   "source": [
    "from yasearch.etc.schema import Document\n",
    "import numpy as np\n",
    "from loguru import logger\n",
    "from tqdm import tqdm\n",
    "from pathlib import Path\n",
    "import os\n",
    "import polars as pl\n",
    "import uuid\n",
    "from pathlib import Path\n",
    "import simplejson as json\n",
    "from typing import Optional, List, Dict\n",
    "from weaviate.classes.query import MetadataQuery"
   ]
  },
  {
   "cell_type": "code",
   "execution_count": 2,
   "metadata": {},
   "outputs": [
    {
     "name": "stdout",
     "output_type": "stream",
     "text": [
      "weaviate-client==4.5.4\n"
     ]
    }
   ],
   "source": [
    "!pip freeze | grep weaviate"
   ]
  },
  {
   "cell_type": "code",
   "execution_count": 3,
   "metadata": {},
   "outputs": [],
   "source": [
    "from transformers import AutoModel, AutoTokenizer\n",
    "from torch import Tensor\n",
    "import torch\n",
    "from torch.functional import F\n",
    "from functools import partial\n",
    "from more_itertools import chunked\n",
    "from yasearch.processing import loader, igniset"
   ]
  },
  {
   "cell_type": "code",
   "execution_count": 4,
   "metadata": {},
   "outputs": [],
   "source": [
    "model_name_or_path = \"intfloat/multilingual-e5-base\""
   ]
  },
  {
   "cell_type": "code",
   "execution_count": 5,
   "metadata": {},
   "outputs": [
    {
     "name": "stderr",
     "output_type": "stream",
     "text": [
      "/home/justatom/ISpell/envs/polaroids/lib/python3.11/site-packages/huggingface_hub/file_download.py:1132: FutureWarning: `resume_download` is deprecated and will be removed in version 1.0.0. Downloads always resume when possible. If you want to force a new download, use `force_download=True`.\n",
      "  warnings.warn(\n"
     ]
    }
   ],
   "source": [
    "model = AutoModel.from_pretrained(model_name_or_path)\n",
    "tokenizer = AutoTokenizer.from_pretrained(model_name_or_path)"
   ]
  },
  {
   "cell_type": "code",
   "execution_count": 6,
   "metadata": {},
   "outputs": [
    {
     "data": {
      "text/plain": [
       "True"
      ]
     },
     "execution_count": 6,
     "metadata": {},
     "output_type": "execute_result"
    }
   ],
   "source": [
    "torch.cuda.is_available()"
   ]
  },
  {
   "cell_type": "code",
   "execution_count": 7,
   "metadata": {},
   "outputs": [],
   "source": [
    "def prefix(x, pref:str):\n",
    "    return pref.strip() + \" \" + x"
   ]
  },
  {
   "cell_type": "code",
   "execution_count": 8,
   "metadata": {},
   "outputs": [],
   "source": [
    "def ignite_dataset(where) -> List[Dict]:\n",
    "    docs = None\n",
    "    with open(str(Path(where))) as fin:\n",
    "        docs = json.load(fin)\n",
    "    return docs"
   ]
  },
  {
   "cell_type": "code",
   "execution_count": 9,
   "metadata": {},
   "outputs": [],
   "source": [
    "docs = ignite_dataset(where=Path(os.getcwd()) / \".data\" / \"polaroids.ai.data.json\")"
   ]
  },
  {
   "cell_type": "code",
   "execution_count": 10,
   "metadata": {},
   "outputs": [],
   "source": [
    "pl_data = pl.from_dicts(docs)"
   ]
  },
  {
   "cell_type": "code",
   "execution_count": 11,
   "metadata": {},
   "outputs": [
    {
     "data": {
      "text/html": [
       "<div><style>\n",
       ".dataframe > thead > tr,\n",
       ".dataframe > tbody > tr {\n",
       "  text-align: right;\n",
       "  white-space: pre-wrap;\n",
       "}\n",
       "</style>\n",
       "<small>shape: (5, 8)</small><table border=\"1\" class=\"dataframe\"><thead><tr><th>content</th><th>title</th><th>author</th><th>type</th><th>has_image</th><th>img_path</th><th>speaker</th><th>query</th></tr><tr><td>str</td><td>str</td><td>str</td><td>str</td><td>bool</td><td>str</td><td>str</td><td>str</td></tr></thead><tbody><tr><td>&quot;В реалисте вер…</td><td>&quot;Братья Карамаз…</td><td>&quot;Ф.М. Достоевск…</td><td>&quot;book&quot;</td><td>false</td><td>null</td><td>null</td><td>null</td></tr><tr><td>&quot;Жизнь — это ми…</td><td>&quot;Человек в футл…</td><td>&quot;Антон Павлович…</td><td>&quot;book&quot;</td><td>false</td><td>null</td><td>null</td><td>null</td></tr><tr><td>&quot;Нет, не так. К…</td><td>&quot;Метро 2033&quot;</td><td>&quot;Дмитрий Глухов…</td><td>&quot;book&quot;</td><td>true</td><td>&quot;./img/metro203…</td><td>null</td><td>null</td></tr><tr><td>&quot;Станьте солнце…</td><td>&quot;Преступление и…</td><td>&quot;Ф.М.Достоевски…</td><td>&quot;book&quot;</td><td>true</td><td>&quot;./img/crimeand…</td><td>null</td><td>null</td></tr><tr><td>&quot;Когда-то он бы…</td><td>&quot;Джон Уик 3&quot;</td><td>&quot;...&quot;</td><td>&quot;movie&quot;</td><td>true</td><td>&quot;./img/johnwick…</td><td>null</td><td>null</td></tr></tbody></table></div>"
      ],
      "text/plain": [
       "shape: (5, 8)\n",
       "┌───────────────┬──────────────┬──────────────┬───────┬───────────┬──────────────┬─────────┬───────┐\n",
       "│ content       ┆ title        ┆ author       ┆ type  ┆ has_image ┆ img_path     ┆ speaker ┆ query │\n",
       "│ ---           ┆ ---          ┆ ---          ┆ ---   ┆ ---       ┆ ---          ┆ ---     ┆ ---   │\n",
       "│ str           ┆ str          ┆ str          ┆ str   ┆ bool      ┆ str          ┆ str     ┆ str   │\n",
       "╞═══════════════╪══════════════╪══════════════╪═══════╪═══════════╪══════════════╪═════════╪═══════╡\n",
       "│ В реалисте    ┆ Братья       ┆ Ф.М.         ┆ book  ┆ false     ┆ null         ┆ null    ┆ null  │\n",
       "│ вера не от    ┆ Карамазовы   ┆ Достоевский  ┆       ┆           ┆              ┆         ┆       │\n",
       "│ чуда рожда…   ┆              ┆              ┆       ┆           ┆              ┆         ┆       │\n",
       "│ Жизнь — это   ┆ Человек в    ┆ Антон        ┆ book  ┆ false     ┆ null         ┆ null    ┆ null  │\n",
       "│ миг. Ее       ┆ футляре      ┆ Павлович     ┆       ┆           ┆              ┆         ┆       │\n",
       "│ нельзя прожи… ┆              ┆ Чехов        ┆       ┆           ┆              ┆         ┆       │\n",
       "│ Нет, не так.  ┆ Метро 2033   ┆ Дмитрий      ┆ book  ┆ true      ┆ ./img/metro2 ┆ null    ┆ null  │\n",
       "│ Когда         ┆              ┆ Глуховский   ┆       ┆           ┆ 033/destiny. ┆         ┆       │\n",
       "│ проживаешь    ┆              ┆              ┆       ┆           ┆ jpeg         ┆         ┆       │\n",
       "│ от…           ┆              ┆              ┆       ┆           ┆              ┆         ┆       │\n",
       "│ Станьте       ┆ Преступление ┆ Ф.М.Достоевс ┆ book  ┆ true      ┆ ./img/crimea ┆ null    ┆ null  │\n",
       "│ солнцем, вас  ┆ и наказание  ┆ кий          ┆       ┆           ┆ ndpunishment ┆         ┆       │\n",
       "│ все и увидя…  ┆              ┆              ┆       ┆           ┆ /becomes…    ┆         ┆       │\n",
       "│ Когда-то он   ┆ Джон Уик 3   ┆ ...          ┆ movie ┆ true      ┆ ./img/johnwi ┆ null    ┆ null  │\n",
       "│ был в нашей   ┆              ┆              ┆       ┆           ┆ ck/john_wick ┆         ┆       │\n",
       "│ команде.…     ┆              ┆              ┆       ┆           ┆ _dog_and…    ┆         ┆       │\n",
       "└───────────────┴──────────────┴──────────────┴───────┴───────────┴──────────────┴─────────┴───────┘"
      ]
     },
     "execution_count": 11,
     "metadata": {},
     "output_type": "execute_result"
    }
   ],
   "source": [
    "pl_data.head()"
   ]
  },
  {
   "cell_type": "code",
   "execution_count": 12,
   "metadata": {},
   "outputs": [],
   "source": [
    "def tokenize(input_texts, tokenizer):\n",
    "    batch_dict = tokenizer(input_texts, max_length=512, padding=True, truncation=True, return_tensors='pt')\n",
    "    return batch_dict"
   ]
  },
  {
   "cell_type": "code",
   "execution_count": 13,
   "metadata": {},
   "outputs": [],
   "source": [
    "def average_pool(last_hidden_states: Tensor,\n",
    "                 attention_mask: Tensor) -> Tensor:\n",
    "    last_hidden = last_hidden_states.masked_fill(~attention_mask[..., None].bool(), 0.0)\n",
    "    return last_hidden.sum(dim=1) / attention_mask.sum(dim=1)[..., None]"
   ]
  },
  {
   "cell_type": "code",
   "execution_count": 14,
   "metadata": {},
   "outputs": [],
   "source": [
    "documents = [d.get(\"content\") for d in docs]\n",
    "labels = [d.get(\"title\") for d in docs]"
   ]
  },
  {
   "cell_type": "code",
   "execution_count": 36,
   "metadata": {},
   "outputs": [
    {
     "data": {
      "text/plain": [
       "torch.Size([616, 512])"
      ]
     },
     "execution_count": 36,
     "metadata": {},
     "output_type": "execute_result"
    }
   ],
   "source": [
    "tokenize(documents, tokenizer=tokenizer)[\"input_ids\"].shape"
   ]
  },
  {
   "cell_type": "code",
   "execution_count": 16,
   "metadata": {},
   "outputs": [],
   "source": [
    "def generate_unique_id(text, namespace_uuid='91461c99-f89d-49d2-af96-d8e2e14e9b58'):\n",
    "    \"\"\"\n",
    "    \n",
    "    Args:\n",
    "    text (str): Textual content for generating fixed UUID.\n",
    "    namespace_uuid (str): Namespace used by https://rethinkdb.com.\n",
    "    \n",
    "    Returns:\n",
    "    str: Строковое представление детерминированного UUID.\n",
    "    \"\"\"\n",
    "    namespace = uuid.UUID(namespace_uuid)\n",
    "    \n",
    "    deterministic_uuid = uuid.uuid5(namespace, text)\n",
    "    \n",
    "    return str(deterministic_uuid)"
   ]
  },
  {
   "cell_type": "code",
   "execution_count": 17,
   "metadata": {},
   "outputs": [],
   "source": [
    "def ignite_vectors_by(model, docs, labels: Optional[List[str]] = None, pref:str=\"\", norm: bool = True, batch_size:int = 2, device:str = \"cpu\"):\n",
    "    wrapped_docs = []\n",
    "    if labels is not None:\n",
    "        it = chunked(zip(docs, labels), n=batch_size)\n",
    "    else:\n",
    "        it = chunked(docs, n=batch_size)\n",
    "    pbar = tqdm(total=len(docs), desc=\" Embeddings for documents\")\n",
    "    model = model.to(device).eval()\n",
    "    for chunk in it:\n",
    "        if labels is not None:\n",
    "            raw_docs, raw_labels = [c[0] for c in chunk], [c[1] for c in chunk]\n",
    "        else:\n",
    "            raw_docs = chunk\n",
    "        _docs = [prefix(x, pref=pref) for x in raw_docs]\n",
    "        batch_dict = tokenize(_docs, tokenizer=tokenizer)\n",
    "        batch = {k:v.to(device) for k, v in batch_dict.items()}\n",
    "        with torch.no_grad():\n",
    "            outputs = model(**batch)\n",
    "            _embeddings = average_pool(outputs.last_hidden_state, batch['attention_mask'])\n",
    "        if norm:\n",
    "            _embeddings = F.normalize(_embeddings, p=2, dim=len(_embeddings.shape) - 1)\n",
    "        _embeddings = _embeddings.cpu().numpy()\n",
    "        if labels is not None:\n",
    "            chunk = [Document.from_dict({\"content\": doc, \"embedding\": list(emb), \"labels\": [generate_unique_id(label)]}) for doc, label, emb in zip(raw_docs, raw_labels, _embeddings)]\n",
    "        else:\n",
    "            chunk = [Document.from_dict({\"content\": doc, \"embedding\": list(emb)}) for doc, emb in zip(raw_docs, _embeddings)]\n",
    "        wrapped_docs.extend(chunk)\n",
    "        pbar.update(n=len(raw_docs))\n",
    "    return wrapped_docs"
   ]
  },
  {
   "cell_type": "code",
   "execution_count": 18,
   "metadata": {},
   "outputs": [],
   "source": [
    "from yasearch.storing.weaviate import WeaviateDocStore\n",
    "store = WeaviateDocStore(url=\"http://localhost:2211\", collection_name=\"justatom\")"
   ]
  },
  {
   "cell_type": "code",
   "execution_count": 19,
   "metadata": {},
   "outputs": [
    {
     "data": {
      "text/plain": [
       "0"
      ]
     },
     "execution_count": 19,
     "metadata": {},
     "output_type": "execute_result"
    }
   ],
   "source": [
    "store.count_documents()"
   ]
  },
  {
   "cell_type": "code",
   "execution_count": 20,
   "metadata": {},
   "outputs": [
    {
     "name": "stderr",
     "output_type": "stream",
     "text": [
      " Embeddings for documents: 100%|██████████| 616/616 [00:06<00:00, 92.50it/s] \n"
     ]
    }
   ],
   "source": [
    "wrapped_docs = ignite_vectors_by(model=model, docs=documents, labels=labels, pref=\"passage:\", device=\"cuda\")"
   ]
  },
  {
   "cell_type": "code",
   "execution_count": 24,
   "metadata": {},
   "outputs": [
    {
     "data": {
      "text/plain": [
       "'Когда-то он был в нашей команде. Его прозвали “Баба-Яга”. Джон - человек целеустремленный, обязательный, волевой. Тебе все это знакомо очень мало... Я видел однажды, как он убил троих в баре... Карандашом. Обычным карандашом. и, вдруг, в один прекрасный день, он захотел уйти. Все из-за женщины, конечно. Поэтому, я заключил с ним сделку. Я дал ему невыполнимое задание - работу, которую никто не смог потянуть. Те, которых он закопал тогда легли в основу нашей организации.\\nА теперь мой сын через несколько дней после смерти его жены стырил его тачку и убил его щенка...\\nЙозеф, Йозеф, мой сын. Джон придет за тобой и ты ничего не сможешь сделать потому что не сможешь.'"
      ]
     },
     "execution_count": 24,
     "metadata": {},
     "output_type": "execute_result"
    }
   ],
   "source": [
    "wrapped_docs[4].content"
   ]
  },
  {
   "cell_type": "code",
   "execution_count": 25,
   "metadata": {},
   "outputs": [],
   "source": [
    "assert wrapped_docs[0].meta[\"labels\"][0] == generate_unique_id(labels[0]), f\"Unexptected error due to labeling errors\""
   ]
  },
  {
   "cell_type": "code",
   "execution_count": 26,
   "metadata": {},
   "outputs": [
    {
     "data": {
      "text/plain": [
       "{'labels': ['efc12637-0e91-581d-bdba-64fba3ec6a04']}"
      ]
     },
     "execution_count": 26,
     "metadata": {},
     "output_type": "execute_result"
    }
   ],
   "source": [
    "wrapped_docs[0].meta"
   ]
  },
  {
   "cell_type": "code",
   "execution_count": 27,
   "metadata": {},
   "outputs": [
    {
     "data": {
      "text/plain": [
       "616"
      ]
     },
     "execution_count": 27,
     "metadata": {},
     "output_type": "execute_result"
    }
   ],
   "source": [
    "store.write_documents(documents=wrapped_docs)"
   ]
  },
  {
   "cell_type": "code",
   "execution_count": 28,
   "metadata": {},
   "outputs": [],
   "source": [
    "queries = [\n",
    "    \"Какие правила голодных игр?\",\n",
    "    \"Баба Яга\",\n",
    "    \"Любовь\"\n",
    "]"
   ]
  },
  {
   "cell_type": "code",
   "execution_count": 31,
   "metadata": {},
   "outputs": [
    {
     "name": "stderr",
     "output_type": "stream",
     "text": [
      " Embeddings for documents: 100%|██████████| 3/3 [00:00<00:00,  5.33it/s]\n"
     ]
    }
   ],
   "source": [
    "query_vecs = ignite_vectors_by(model=model, docs=queries, pref=\"query: \")"
   ]
  },
  {
   "cell_type": "code",
   "execution_count": 32,
   "metadata": {},
   "outputs": [
    {
     "name": "stdout",
     "output_type": "stream",
     "text": [
      "Какие правила голодных игр?\n",
      "[0.053049717, 0.04988152, 0.006537093, 0.05279767, 0.049019407, -0.025354119, -0.016592987, -0.05835095, 0.043995444, 0.029732507, -0.0053636367, 0.028418243, 0.17047888, 0.037980232, -0.04613134, -0.053106558, 0.02804633, 0.0067098793, 0.017089207, 0.026184045, 0.016329052, -0.035786778, 0.017885787, -0.006323317, 0.025756037, -0.036064167, 0.009998747, 0.03402225, -0.023247983, 0.024673825, 0.030762702, -0.054473188, -0.0002622584, 0.021900948, 0.024026586, 0.02106541, 0.002189432, -0.016787514, 0.0028538867, 0.025357595, -0.012233675, -0.0133498525, 0.05426145, -0.06845884, 0.008962782, -0.01997723, 0.030984353, -0.0045971186, -0.05502491, -0.047476932, 0.0017278417, 0.02520688, 0.042845547, 0.021489842, -0.05621179, -0.06356001, 0.03876095, 0.028062996, -0.05360235, 0.031846154, 0.0027325242, 0.05696302, -0.015343976, 0.05477503, 0.044966668, -0.018142356, 0.032350186, -0.042801052, -0.040873304, -0.0044993623, -0.014831008, -0.0006840441, 0.039676134, 0.013426526, -0.024863906, -0.015717698, -0.030454924, -0.0022951576, 0.011617852, -0.044983238, 0.03555451, -0.0072182426, 0.0351878, 0.035995375, 0.007412928, -0.018803896, -0.025005933, 0.035679277, 0.01934976, 0.012923238, 0.06949347, -0.008433587, -0.03279315, 0.014194552, 0.035114087, 0.014218783, 0.024594594, 0.016355732, 0.035175383, -0.043728463, -0.018125126, -0.082712926, -0.011097082, -0.008281535, -0.075383276, -0.028579725, -0.0020408253, -0.014620177, 0.03674524, -0.04593551, -0.022508983, 0.038869817, 0.009980199, -0.07945459, 0.017435579, -0.030427659, 0.04168474, 0.012179014, 0.01700591, -0.015702115, 0.0031207486, 0.03237207, -0.03137453, -0.03056472, 0.0059835934, -0.007166215, -0.021888413, -0.036365796, -0.01299373, -0.06331716, -0.04403098, -0.054190267, 0.030093258, 0.05044497, -0.014971453, 0.039301157, 0.042373836, 1.9659872e-05, -0.0029794702, 0.013420438, 0.02044993, -0.056401238, -0.028206976, 0.025083074, 0.037833005, -0.057691075, 0.046491083, -0.010519273, 0.0013446971, 0.03523381, 0.038320996, -0.020388355, -0.019972844, -0.019088477, 0.035612244, -0.029548846, -0.08166838, -0.0073656063, -0.016923571, 0.016340706, -0.010701883, 0.0069710664, 0.018757792, 0.00831746, 0.013524271, -0.016046619, -0.048949625, 0.015341694, -0.028043253, -0.035290994, -0.022348922, 0.011702534, -0.08895949, 0.037594248, -0.0024621175, -0.045369744, -0.00993257, -0.038069014, -0.0407316, -0.08919249, -0.020761335, -0.05336558, -0.027459905, 0.03306642, 0.04866232, 0.03466455, 0.028562047, -0.012488141, 0.0191456, -0.015137317, -0.012283268, 0.060974807, 0.07469807, 0.023576679, 0.01708649, 0.006893134, 0.00270977, 0.0286453, -0.029698664, -0.043263894, 0.045001898, -0.02096988, 0.018606806, 0.031169614, 0.04482132, -0.04934634, 0.00316194, 0.03747591, 0.03195973, 0.026288908, -0.03247803, 0.061163418, 0.0009302806, 0.006108457, -0.016350783, -0.031902365, -0.016265072, 0.013960216, -0.032580044, 0.011789124, 0.064676516, -0.042962875, 0.061503407, 0.012929786, -0.009737933, 0.003180144, -0.010089183, 0.010382135, 0.00024163819, 0.024240598, 0.07584257, 0.039077513, -0.07194146, 0.050175197, 0.005618547, -0.010692826, 0.044077758, 0.009753893, -0.030795714, -0.11650808, 0.0072602523, 0.05056299, -0.0078204125, -0.025141789, -0.020709097, -0.025607351, -0.019467192, 0.008747347, -0.06257492, 0.019717686, 0.037715286, -0.02211489, 0.037054993, -0.022871496, 0.0005391654, 0.004089053, -0.031938497, -0.01266432, -0.00921658, 0.036547635, 0.029043494, -0.032916054, -0.02158273, -0.056230687, -0.004455045, 0.015560917, 0.06371563, -0.078019135, 0.0068882355, -0.015352243, -0.028262548, -0.02729898, -0.004178597, 0.060608223, 7.427885e-05, -0.024138369, -0.03570979, 0.05137021, -0.029872991, -0.056766514, -0.017089821, 0.053953633, -0.07769169, -0.033230048, -0.029413704, 0.02117746, -0.10230246, -0.005585533, -0.0679022, 0.02005881, 0.046511155, 0.06244111, -0.015678594, 0.008538281, 0.08400473, 0.026203899, 0.038876362, -0.023226852, -0.0088990545, 0.021463234, -0.01968656, -0.022669971, -0.0062839207, -0.040256746, -0.035474837, -0.019516736, 0.0945672, 0.02440343, -0.09712602, 0.023795456, -0.012897844, -0.027475601, -0.06496888, 0.051667966, -0.008692472, -0.020446014, 0.019485256, 0.044240247, 0.033175893, 0.009137235, -0.04306652, 0.04491156, -0.029007575, -0.007416347, -0.018230017, -0.0034886685, 0.036692932, -0.024270263, 0.042825844, 0.042176727, -0.064623386, 0.03800301, -0.031210106, 0.058461122, -0.078779936, 0.014271417, -0.055081986, -0.04021974, 0.02782407, 0.02593432, 0.004996058, 0.029371427, 0.025140092, -0.014591218, 0.032554895, -0.0036795808, -0.0059817904, 0.024109146, 0.0044037313, 0.03368412, 0.033421043, -0.080934025, 0.010611784, -0.016740022, -0.048845343, 0.012732197, 0.0029762473, -0.009945537, -0.031002983, -0.05781143, -0.05306653, -0.015971811, 0.036861226, -0.011441472, 0.008176413, 0.029285708, -0.041050993, 0.0077535883, 0.019428177, 0.0013268588, 0.07737169, 0.074156046, -0.052998893, -0.019978434, 0.014863049, -0.02393647, 0.071904026, -0.04902414, -0.0045715044, 0.04083846, 0.039731953, 0.01349942, -0.022819374, 0.018159015, -0.04145742, 0.05122898, 0.0037691158, -0.0766575, -0.011130384, 0.008561559, -0.00015012149, -0.019828819, -0.034406345, 0.013447779, -0.0024832932, -0.0062944745, 0.0137416255, -0.012770321, 0.02780718, -0.034922652, 0.026656639, 0.024835777, -0.0062659807, 0.04432373, 0.043076992, 0.01075539, 0.008730742, 0.022027431, -0.031850033, -0.066839404, 0.042040862, -0.0064848396, 0.044507124, -0.031296644, -0.016017783, -0.02389866, 0.024348564, 0.040282834, 0.04844638, 0.047339674, -0.015841143, 0.0125312, 0.023897436, 0.028886622, 0.02482071, -0.056268174, 0.023407156, 0.009007437, 0.015707606, -0.052447215, -0.0006378522, 0.009561341, 0.019032383, -0.009528532, 0.052320823, -0.05411947, 0.033714555, 0.00223406, -0.020506984, 0.02485825, 0.04316737, -0.0384448, 0.022440115, -0.009188918, -0.028043369, 0.025908304, -0.004717987, 0.048056394, -0.019237706, -0.031372413, -0.01956211, 0.012603797, 0.03480224, 0.006544766, 0.010813147, -0.026852507, 0.041742623, 0.04135874, 0.014233969, -0.093124166, 0.047350094, 0.029595166, -0.011497175, 0.019465515, -0.020079387, -0.045230635, 0.022168426, -0.049849987, 0.010319899, -0.0046280576, -0.008522039, -0.014518156, 0.032119337, -0.007940055, 0.028877608, 0.03010465, 0.0020775292, 0.01472547, 0.01829724, 0.006727019, 0.020491218, -0.06190638, -0.042010117, -0.004317074, 0.020159261, 0.06036794, -0.093847565, 0.043476574, 0.026761632, -0.006112612, 0.015578267, 0.036056664, 0.0009165986, 0.0030230035, -0.036467187, 0.015203497, -0.0044317706, -0.062647454, 0.015717028, -0.006048472, 0.005383813, 0.025175745, -0.032553226, 0.022440715, 0.008402339, 0.040499754, 0.009765286, -0.010876163, -0.0006612315, 0.0036398391, 0.116767, -0.03524183, -0.0037326012, -0.030870948, 0.022054797, 0.011755628, -0.024634307, 0.039047062, 0.030621644, -0.027449738, -0.010157106, 0.0009980289, -0.038164437, -0.013149294, 0.007501401, -0.0509094, 0.0023032262, -0.03276276, 0.01232515, -0.040436175, 0.033399444, -0.042062774, 0.03529237, -0.07027382, -0.08964682, 0.04735193, -0.04614744, -0.058662977, 0.027695758, 0.021427711, -0.0043361126, -0.03312493, 0.012872193, 0.011044227, 0.014672872, -0.0008203911, 0.010508256, -0.053906523, -0.0007474611, -0.0037600775, 0.040114395, 0.0041529005, -0.023903145, -0.00017749853, -0.045285273, 0.036386307, 0.005685563, -0.009542448, 0.026801135, -0.022195946, 0.0009007772, -0.08132497, -0.009796809, 0.015899312, 0.014789663, 0.008041763, 0.030664338, -0.009698007, -0.013794064, 0.06163193, -0.100315236, 0.025083525, 0.043633986, -0.0367533, 0.045224827, 0.019921757, 0.015984757, -0.040354487, 0.012690989, 0.059721354, -0.027388016, -0.011702249, -0.025155507, 0.020501304, 0.04069658, 0.032845065, -0.0050207875, 0.005200905, -0.19482909, 0.018597053, 0.01973551, -0.0005269327, 0.031687524, 0.06388843, -0.00786628, -0.02018037, 0.008667304, 0.016266998, 0.017932411, -0.04020966, 0.0246577, 0.0044815596, -0.05086497, -0.0296502, -0.0240119, -0.039359923, 0.014063462, 0.048581798, 0.016977223, 0.060770426, -0.017271252, 0.043319307, -0.07180111, 0.001500095, -0.0020251467, 0.024801653, 0.020865079, -0.00041632846, -0.011904872, 0.01894113, 0.026212856, 0.028850429, -0.050516054, 0.01196113, -0.041578148, 0.009932076, -0.07259021, 0.03454787, 0.00023304646, -0.043998726, -0.009698941, 0.010131587, 0.0017136071, 0.05260273, 0.011817456, 0.046315357, 0.007787713, -0.06763808, 0.064754136, -0.025408909, -0.06245305, 0.020490231, 0.013206532, 0.036602166, 0.010228971, 0.020470625, 0.0030442618, 0.00559715, 0.030579653, 0.038554125, -0.05403189, 0.06964026, 0.0010341465, -0.02010592, 0.006590888, -0.030046182, -0.034609597, -0.025889521, 0.018958855, -0.018466298, -0.034523338, 0.014132028, 0.03964846, 0.020308722, -0.018812163, -0.021156978, -0.040259313, 0.04651872, -0.028401703, -0.07315042, 0.003018237, 0.026581721, -0.03723772, -0.0040672924, -0.027450396, 0.014751938, 0.008266289, 0.018729437, -0.0067488775, -0.033790417, 0.007991144, 0.015920859, 0.01460575, -0.006091287, 0.004022395, 0.027622199, 0.022413105, -0.027904717, 0.0017174634, -0.012264496, -0.061901644, 0.008656683, 0.007297238, -0.038386464, -0.055293687, 0.031072209, 0.013262932, 0.0014452015, 0.003931183, 0.03473351, 0.0834416, -0.019060694, 0.027862556, -0.059170336, -0.00408702, -0.035954606, -0.052819364, -0.00905443, -0.005881109, -0.010500545, 0.0085739475, -0.01086946, 0.052300207, -0.0128112, 0.01766694, 0.030600678, 0.0032453213, 0.06733639, -0.047731478, -0.07083752, -0.02733582, -0.025312845, -0.02335058, -0.015055348, 0.03654844, 0.015811594, 0.054949388, 0.047080476, 0.052650046, -0.050502893, -0.054819874, -0.026625432, 0.016722864, 0.008639501, -0.00806086, -0.046255235, 0.005045144, 0.009187637, 0.0037688306, -0.06546195, 0.017542774, -0.015973886, -0.03258259, 0.037126113, -0.013502945, -0.011188231, 0.0047727935, -0.006357324, -0.045297295, -0.026558978, 0.021796225, 0.028035428, 0.007298372, 0.022895945, -0.019545676, -0.0056217364, 0.009415324, 0.018401634, -0.04212526, 0.02527285, 0.0019542808, 0.057198673, 0.013606434, 0.006576165, 0.046707228, -0.048286617, -0.035945162, 0.03293201]\n"
     ]
    }
   ],
   "source": [
    "print(query_vecs[0].content)\n",
    "print(query_vecs[0].embedding)"
   ]
  },
  {
   "cell_type": "markdown",
   "metadata": {},
   "source": [
    "#### Seach `by embedding` only"
   ]
  },
  {
   "cell_type": "code",
   "execution_count": 33,
   "metadata": {},
   "outputs": [
    {
     "data": {
      "text/plain": [
       "[<Document: {'content': 'Проигрывать всегда горько. Неистово верить в свою правоту, и всё равно проиграть.', 'content_type': 'text', 'score': 0.9016470909118652, 'meta': {'labels': [UUID('f5bced10-6b44-5ba4-bbc0-93ce7cf23f4e')], 'dataframe': None}, 'embedding': '<embedding of shape [no shape]>', 'id': '37c3fd8d7296de6e7f60f63073044af2'}>,\n",
       " <Document: {'content': 'В Дистрикте-12 голодная смерть не редкость. За примерами далеко ходить не надо: старики, не способные больше работать, дети из семей, где слишком много ртов, рабочие, искалеченные в шахтах. Бродил вчера человек по улицам, а сегодня, смотришь, лежит где-нибудь, привалившись к забору, и не шевелится. Или на Луговине наткнешься. А другой раз только плач из домов слышишь. Приедут миротворцы, заберут тело. Власти не признают, что это из-за голода. Официально причина всегда – грипп, переохлаждение или воспаление легких.', 'content_type': 'text', 'score': 0.9013684391975403, 'meta': {'labels': [UUID('721626b0-f98a-55d8-b782-9dd6c2185bd6')], 'dataframe': None}, 'embedding': '<embedding of shape [no shape]>', 'id': '2f68f9588eb4af033e98941ca806733a'}>]"
      ]
     },
     "execution_count": 33,
     "metadata": {},
     "output_type": "execute_result"
    }
   ],
   "source": [
    "store.search_by_embedding(query_embedding=query_vecs[0].embedding, top_k=2)"
   ]
  },
  {
   "cell_type": "markdown",
   "metadata": {},
   "source": [
    "#### Search `by bm25` only"
   ]
  },
  {
   "cell_type": "code",
   "execution_count": 34,
   "metadata": {},
   "outputs": [
    {
     "data": {
      "text/plain": [
       "[<Document: {'content': 'Герой наш поворотился в ту ж минуту к губернаторше и уже готов был отпустить ей ответ, вероятно ничем не хуже тех, какие отпускают в модных повестях Звонские, Линские, Лидины, Гремины и всякие ловкие военные люди, как, невзначай поднявши глаза, остановился вдруг, будто оглушенный ударом.', 'content_type': 'text', 'score': 1.8574644327163696, 'meta': {'labels': [UUID('f9507682-c01d-5f7b-8cb4-437ba795d921')], 'dataframe': None}, 'embedding': None, 'id': 'b3d5e98f550b97faed8dca802838910e'}>,\n",
       " <Document: {'content': '– Будут какие-нибудь советы? – интересуется Пит.\\n– Как только ударят в гонг, скорее уносите ноги. Мясорубка перед Рогом изобилия вам не по зубам. Улепетывайте что есть духу, чем дальше от других, тем лучше, и ищите источник воды. Ясно?\\n– А потом? – спрашиваю я.\\n– А потом постарайтесь выжить, – отвечает Хеймитч.', 'content_type': 'text', 'score': 1.8173242807388306, 'meta': {'labels': [UUID('721626b0-f98a-55d8-b782-9dd6c2185bd6')], 'dataframe': None}, 'embedding': None, 'id': '2ceb216d0d34b742f7133894384faea7'}>]"
      ]
     },
     "execution_count": 34,
     "metadata": {},
     "output_type": "execute_result"
    }
   ],
   "source": [
    "store.search_by_keywords(query=queries[0], top_k=2)"
   ]
  },
  {
   "cell_type": "markdown",
   "metadata": {},
   "source": [
    "#### Search by both `bm25` and `embedding` using `alpha` score to merge the rankings from both"
   ]
  },
  {
   "cell_type": "code",
   "execution_count": 35,
   "metadata": {},
   "outputs": [
    {
     "name": "stderr",
     "output_type": "stream",
     "text": [
      "\u001b[32m2024-06-15 21:54:44.221\u001b[0m | \u001b[1mINFO    \u001b[0m | \u001b[36m__main__\u001b[0m:\u001b[36m<module>\u001b[0m:\u001b[36m8\u001b[0m - \u001b[1m >> | Какие правила голодных игр?\u001b[0m\n",
      "\u001b[32m2024-06-15 21:54:44.222\u001b[0m | \u001b[1mINFO    \u001b[0m | \u001b[36m__main__\u001b[0m:\u001b[36m<module>\u001b[0m:\u001b[36m9\u001b[0m - \u001b[1m\n",
      "DOC[0]\n",
      "– Будут какие-нибудь советы? – интересуется Пит.\n",
      "– Как только ударят в гонг, скорее уносите ноги. Мясорубка перед Рогом изобилия вам не по зубам. Улепетывайте что есть духу, чем дальше от других, тем лучше, и ищите источник воды. Ясно?\n",
      "– А потом? – спрашиваю я.\n",
      "– А потом постарайтесь выжить, – отвечает Хеймитч.\n",
      "---\n",
      "DOC[1]\n",
      "Проигрывать всегда горько. Неистово верить в свою правоту, и всё равно проиграть.\u001b[0m\n"
     ]
    }
   ],
   "source": [
    "alpha = 0.6\n",
    "query = query_vecs[0].content\n",
    "query_emb = query_vecs[0].embedding\n",
    "\n",
    "response = store.search(query=query, query_embedding=query_emb, alpha=alpha, top_k=2)\n",
    "\n",
    "response_docs = \"\\n---\".join([f\"\\nDOC[{str(pos)}]\\n\" + x.content for pos, x in enumerate(response)])\n",
    "logger.info(f\" >> | {query}\")\n",
    "logger.info(response_docs)"
   ]
  },
  {
   "cell_type": "code",
   "execution_count": null,
   "metadata": {},
   "outputs": [],
   "source": []
  }
 ],
 "metadata": {
  "kernelspec": {
   "display_name": "polaroids",
   "language": "python",
   "name": "python3"
  },
  "language_info": {
   "codemirror_mode": {
    "name": "ipython",
    "version": 3
   },
   "file_extension": ".py",
   "mimetype": "text/x-python",
   "name": "python",
   "nbconvert_exporter": "python",
   "pygments_lexer": "ipython3",
   "version": "3.11.9"
  }
 },
 "nbformat": 4,
 "nbformat_minor": 2
}
