{
 "cells": [
  {
   "cell_type": "code",
   "execution_count": 1,
   "metadata": {},
   "outputs": [
    {
     "name": "stderr",
     "output_type": "stream",
     "text": [
      "/var/folders/nn/jz242fbn1kn9tk10ncm2sgzh0000gn/T/ipykernel_69939/3945488611.py:4: TqdmWarning: IProgress not found. Please update jupyter and ipywidgets. See https://ipywidgets.readthedocs.io/en/stable/user_install.html\n",
      "  from tqdm.autonotebook import tqdm\n"
     ]
    }
   ],
   "source": [
    "from yasearch.etc.schema import Document\n",
    "import numpy as np\n",
    "from loguru import logger\n",
    "from tqdm.autonotebook import tqdm\n",
    "from pathlib import Path\n",
    "import os\n",
    "import polars as pl\n",
    "import uuid\n",
    "from pathlib import Path\n",
    "import simplejson as json\n",
    "from typing import Optional, List, Dict\n",
    "from weaviate.classes.query import MetadataQuery"
   ]
  },
  {
   "cell_type": "code",
   "execution_count": 2,
   "metadata": {},
   "outputs": [
    {
     "name": "stdout",
     "output_type": "stream",
     "text": [
      "weaviate-client==4.5.4\n"
     ]
    }
   ],
   "source": [
    "!pip freeze | grep weaviate"
   ]
  },
  {
   "cell_type": "code",
   "execution_count": 3,
   "metadata": {},
   "outputs": [],
   "source": [
    "from transformers import AutoModel, AutoTokenizer\n",
    "from torch import Tensor\n",
    "import torch\n",
    "from torch.functional import F\n",
    "from functools import partial\n",
    "from more_itertools import chunked\n",
    "from yasearch.processing import loader, igniset"
   ]
  },
  {
   "cell_type": "code",
   "execution_count": 4,
   "metadata": {},
   "outputs": [],
   "source": [
    "model_name_or_path = \"intfloat/multilingual-e5-base\""
   ]
  },
  {
   "cell_type": "code",
   "execution_count": 5,
   "metadata": {},
   "outputs": [],
   "source": [
    "model = AutoModel.from_pretrained(model_name_or_path)\n",
    "tokenizer = AutoTokenizer.from_pretrained(model_name_or_path)"
   ]
  },
  {
   "cell_type": "code",
   "execution_count": 6,
   "metadata": {},
   "outputs": [],
   "source": [
    "def prefix(x, pref:str):\n",
    "    return pref.strip() + \" \" + x"
   ]
  },
  {
   "cell_type": "code",
   "execution_count": 7,
   "metadata": {},
   "outputs": [],
   "source": [
    "def ignite_dataset(where) -> List[Dict]:\n",
    "    docs = None\n",
    "    with open(str(Path(where))) as fin:\n",
    "        docs = json.load(fin)\n",
    "    return docs"
   ]
  },
  {
   "cell_type": "code",
   "execution_count": 8,
   "metadata": {},
   "outputs": [],
   "source": [
    "docs = ignite_dataset(where=Path(os.getcwd()) / \".data\" / \"polaroids.ai.data.json\")"
   ]
  },
  {
   "cell_type": "code",
   "execution_count": 9,
   "metadata": {},
   "outputs": [],
   "source": [
    "pl_data = pl.from_dicts(docs)"
   ]
  },
  {
   "cell_type": "code",
   "execution_count": 10,
   "metadata": {},
   "outputs": [
    {
     "data": {
      "text/html": [
       "<div><style>\n",
       ".dataframe > thead > tr,\n",
       ".dataframe > tbody > tr {\n",
       "  text-align: right;\n",
       "  white-space: pre-wrap;\n",
       "}\n",
       "</style>\n",
       "<small>shape: (5, 8)</small><table border=\"1\" class=\"dataframe\"><thead><tr><th>content</th><th>title</th><th>author</th><th>type</th><th>has_image</th><th>img_path</th><th>speaker</th><th>query</th></tr><tr><td>str</td><td>str</td><td>str</td><td>str</td><td>bool</td><td>str</td><td>str</td><td>str</td></tr></thead><tbody><tr><td>&quot;В реалисте вер…</td><td>&quot;Братья Карамаз…</td><td>&quot;Ф.М. Достоевск…</td><td>&quot;book&quot;</td><td>false</td><td>null</td><td>null</td><td>null</td></tr><tr><td>&quot;Жизнь — это ми…</td><td>&quot;Человек в футл…</td><td>&quot;Антон Павлович…</td><td>&quot;book&quot;</td><td>false</td><td>null</td><td>null</td><td>null</td></tr><tr><td>&quot;Нет, не так. К…</td><td>&quot;Метро 2033&quot;</td><td>&quot;Дмитрий Глухов…</td><td>&quot;book&quot;</td><td>true</td><td>&quot;./img/metro203…</td><td>null</td><td>null</td></tr><tr><td>&quot;Станьте солнце…</td><td>&quot;Преступление и…</td><td>&quot;Ф.М.Достоевски…</td><td>&quot;book&quot;</td><td>true</td><td>&quot;./img/crimeand…</td><td>null</td><td>null</td></tr><tr><td>&quot;Когда-то он бы…</td><td>&quot;Джон Уик 3&quot;</td><td>&quot;...&quot;</td><td>&quot;movie&quot;</td><td>true</td><td>&quot;./img/johnwick…</td><td>null</td><td>null</td></tr></tbody></table></div>"
      ],
      "text/plain": [
       "shape: (5, 8)\n",
       "┌───────────────┬──────────────┬──────────────┬───────┬───────────┬──────────────┬─────────┬───────┐\n",
       "│ content       ┆ title        ┆ author       ┆ type  ┆ has_image ┆ img_path     ┆ speaker ┆ query │\n",
       "│ ---           ┆ ---          ┆ ---          ┆ ---   ┆ ---       ┆ ---          ┆ ---     ┆ ---   │\n",
       "│ str           ┆ str          ┆ str          ┆ str   ┆ bool      ┆ str          ┆ str     ┆ str   │\n",
       "╞═══════════════╪══════════════╪══════════════╪═══════╪═══════════╪══════════════╪═════════╪═══════╡\n",
       "│ В реалисте    ┆ Братья       ┆ Ф.М.         ┆ book  ┆ false     ┆ null         ┆ null    ┆ null  │\n",
       "│ вера не от    ┆ Карамазовы   ┆ Достоевский  ┆       ┆           ┆              ┆         ┆       │\n",
       "│ чуда рожда…   ┆              ┆              ┆       ┆           ┆              ┆         ┆       │\n",
       "│ Жизнь — это   ┆ Человек в    ┆ Антон        ┆ book  ┆ false     ┆ null         ┆ null    ┆ null  │\n",
       "│ миг. Ее       ┆ футляре      ┆ Павлович     ┆       ┆           ┆              ┆         ┆       │\n",
       "│ нельзя прожи… ┆              ┆ Чехов        ┆       ┆           ┆              ┆         ┆       │\n",
       "│ Нет, не так.  ┆ Метро 2033   ┆ Дмитрий      ┆ book  ┆ true      ┆ ./img/metro2 ┆ null    ┆ null  │\n",
       "│ Когда         ┆              ┆ Глуховский   ┆       ┆           ┆ 033/destiny. ┆         ┆       │\n",
       "│ проживаешь    ┆              ┆              ┆       ┆           ┆ jpeg         ┆         ┆       │\n",
       "│ от…           ┆              ┆              ┆       ┆           ┆              ┆         ┆       │\n",
       "│ Станьте       ┆ Преступление ┆ Ф.М.Достоевс ┆ book  ┆ true      ┆ ./img/crimea ┆ null    ┆ null  │\n",
       "│ солнцем, вас  ┆ и наказание  ┆ кий          ┆       ┆           ┆ ndpunishment ┆         ┆       │\n",
       "│ все и увидя…  ┆              ┆              ┆       ┆           ┆ /becomes…    ┆         ┆       │\n",
       "│ Когда-то он   ┆ Джон Уик 3   ┆ ...          ┆ movie ┆ true      ┆ ./img/johnwi ┆ null    ┆ null  │\n",
       "│ был в нашей   ┆              ┆              ┆       ┆           ┆ ck/john_wick ┆         ┆       │\n",
       "│ команде.…     ┆              ┆              ┆       ┆           ┆ _dog_and…    ┆         ┆       │\n",
       "└───────────────┴──────────────┴──────────────┴───────┴───────────┴──────────────┴─────────┴───────┘"
      ]
     },
     "execution_count": 10,
     "metadata": {},
     "output_type": "execute_result"
    }
   ],
   "source": [
    "pl_data.head()"
   ]
  },
  {
   "cell_type": "code",
   "execution_count": 11,
   "metadata": {},
   "outputs": [],
   "source": [
    "def tokenize(input_texts, tokenizer):\n",
    "    batch_dict = tokenizer(input_texts, max_length=512, padding=True, truncation=True, return_tensors='pt')\n",
    "    return batch_dict"
   ]
  },
  {
   "cell_type": "code",
   "execution_count": 12,
   "metadata": {},
   "outputs": [],
   "source": [
    "def average_pool(last_hidden_states: Tensor,\n",
    "                 attention_mask: Tensor) -> Tensor:\n",
    "    last_hidden = last_hidden_states.masked_fill(~attention_mask[..., None].bool(), 0.0)\n",
    "    return last_hidden.sum(dim=1) / attention_mask.sum(dim=1)[..., None]"
   ]
  },
  {
   "cell_type": "code",
   "execution_count": 13,
   "metadata": {},
   "outputs": [],
   "source": [
    "documents = [d.get(\"content\") for d in docs]\n",
    "labels = [d.get(\"title\") for d in docs]"
   ]
  },
  {
   "cell_type": "code",
   "execution_count": 14,
   "metadata": {},
   "outputs": [
    {
     "data": {
      "text/plain": [
       "torch.Size([616, 512])"
      ]
     },
     "execution_count": 14,
     "metadata": {},
     "output_type": "execute_result"
    }
   ],
   "source": [
    "tokenize(documents, tokenizer=tokenizer)[\"input_ids\"].shape"
   ]
  },
  {
   "cell_type": "code",
   "execution_count": 15,
   "metadata": {},
   "outputs": [],
   "source": [
    "def generate_unique_id(text, namespace_uuid='91461c99-f89d-49d2-af96-d8e2e14e9b58'):\n",
    "    \"\"\"\n",
    "    \n",
    "    Args:\n",
    "    text (str): Textual content for generating fixed UUID.\n",
    "    namespace_uuid (str): Namespace used by https://rethinkdb.com.\n",
    "    \n",
    "    Returns:\n",
    "    str: Строковое представление детерминированного UUID.\n",
    "    \"\"\"\n",
    "    namespace = uuid.UUID(namespace_uuid)\n",
    "    \n",
    "    deterministic_uuid = uuid.uuid5(namespace, text)\n",
    "    \n",
    "    return str(deterministic_uuid)"
   ]
  },
  {
   "cell_type": "code",
   "execution_count": 16,
   "metadata": {},
   "outputs": [],
   "source": [
    "def vectorize(docs, labels: Optional[List[str]] = None, pref:str=\"\", norm: bool = True, batch_size:int = 2):\n",
    "    wrapped_docs = []\n",
    "    if labels is not None:\n",
    "        it = chunked(zip(docs, labels), n=batch_size)\n",
    "    else:\n",
    "        it = chunked(docs, n=batch_size)\n",
    "    pbar = tqdm(total=len(docs), desc=\" Embeddings for documents\")\n",
    "    for chunk in it:\n",
    "        if labels is not None:\n",
    "            raw_docs, raw_labels = [c[0] for c in chunk], [c[1] for c in chunk]\n",
    "        else:\n",
    "            raw_docs = chunk\n",
    "        _docs = [prefix(x, pref=pref) for x in raw_docs]\n",
    "        batch_dict = tokenize(_docs, tokenizer=tokenizer)\n",
    "        with torch.no_grad():\n",
    "            outputs = model(**batch_dict)\n",
    "            _embeddings = average_pool(outputs.last_hidden_state, batch_dict['attention_mask']).cpu()\n",
    "        if norm:\n",
    "            _embeddings = F.normalize(_embeddings, p=2, dim=len(_embeddings.shape) - 1)\n",
    "        _embeddings = _embeddings.numpy()\n",
    "        if labels is not None:\n",
    "            chunk = [Document.from_dict({\"content\": doc, \"embedding\": list(emb), \"labels\": [generate_unique_id(label)]}) for doc, label, emb in zip(raw_docs, raw_labels, _embeddings)]\n",
    "        else:\n",
    "            chunk = [Document.from_dict({\"content\": doc, \"embedding\": list(emb)}) for doc, emb in zip(raw_docs, _embeddings)]\n",
    "        wrapped_docs.extend(chunk)\n",
    "        pbar.update(n=len(raw_docs))\n",
    "    return wrapped_docs"
   ]
  },
  {
   "cell_type": "code",
   "execution_count": 17,
   "metadata": {},
   "outputs": [],
   "source": [
    "from yasearch.storing.weaviate import WeaviateDocStore\n",
    "store = WeaviateDocStore(url=\"http://localhost:2211\", collection_name=\"justatom\")"
   ]
  },
  {
   "cell_type": "code",
   "execution_count": 18,
   "metadata": {},
   "outputs": [
    {
     "data": {
      "text/plain": [
       "84"
      ]
     },
     "execution_count": 18,
     "metadata": {},
     "output_type": "execute_result"
    }
   ],
   "source": [
    "store.count_documents()"
   ]
  },
  {
   "cell_type": "code",
   "execution_count": 19,
   "metadata": {},
   "outputs": [
    {
     "name": "stderr",
     "output_type": "stream",
     "text": [
      "huggingface/tokenizers: The current process just got forked, after parallelism has already been used. Disabling parallelism to avoid deadlocks...\n",
      "To disable this warning, you can either:\n",
      "\t- Avoid using `tokenizers` before the fork if possible\n",
      "\t- Explicitly set the environment variable TOKENIZERS_PARALLELISM=(true | false)\n",
      " Embeddings for documents: 100%|██████████| 616/616 [00:49<00:00, 12.49it/s]\n"
     ]
    }
   ],
   "source": [
    "wrapped_docs = vectorize(docs=documents, labels=labels, pref=\"passage: \")"
   ]
  },
  {
   "cell_type": "code",
   "execution_count": 20,
   "metadata": {},
   "outputs": [
    {
     "data": {
      "text/plain": [
       "'Когда-то он был в нашей команде. Его прозвали “Баба-Яга”. Джон - человек целеустремленный, обязательный, волевой. Тебе все это знакомо очень мало... Я видел однажды, как он убил троих в баре... Карандашом. Обычным карандашом. и, вдруг, в один прекрасный день, он захотел уйти. Все из-за женщины, конечно. Поэтому, я заключил с ним сделку. Я дал ему невыполнимое задание - работу, которую никто не смог потянуть. Те, которых он закопал тогда легли в основу нашей организации.\\nА теперь мой сын через несколько дней после смерти его жены стырил его тачку и убил его щенка...\\nЙозеф, Йозеф, мой сын. Джон придет за тобой и ты ничего не сможешь сделать потому что не сможешь.'"
      ]
     },
     "execution_count": 20,
     "metadata": {},
     "output_type": "execute_result"
    }
   ],
   "source": [
    "wrapped_docs[4].content"
   ]
  },
  {
   "cell_type": "code",
   "execution_count": 21,
   "metadata": {},
   "outputs": [],
   "source": [
    "assert wrapped_docs[0].meta[\"labels\"][0] == generate_unique_id(labels[0]), f\"Unexptected error due to labeling errors\""
   ]
  },
  {
   "cell_type": "code",
   "execution_count": 22,
   "metadata": {},
   "outputs": [
    {
     "data": {
      "text/plain": [
       "{'labels': ['efc12637-0e91-581d-bdba-64fba3ec6a04']}"
      ]
     },
     "execution_count": 22,
     "metadata": {},
     "output_type": "execute_result"
    }
   ],
   "source": [
    "wrapped_docs[0].meta"
   ]
  },
  {
   "cell_type": "code",
   "execution_count": 38,
   "metadata": {},
   "outputs": [
    {
     "data": {
      "text/plain": [
       "616"
      ]
     },
     "execution_count": 38,
     "metadata": {},
     "output_type": "execute_result"
    }
   ],
   "source": [
    "store.write_documents(documents=wrapped_docs)"
   ]
  },
  {
   "cell_type": "code",
   "execution_count": 39,
   "metadata": {},
   "outputs": [],
   "source": [
    "queries = [\n",
    "    \"Какие правила голодных игр?\",\n",
    "    \"Баба Яга\",\n",
    "    \"Любовь\"\n",
    "]"
   ]
  },
  {
   "cell_type": "code",
   "execution_count": 40,
   "metadata": {},
   "outputs": [
    {
     "name": "stderr",
     "output_type": "stream",
     "text": [
      " Embeddings for documents: 100%|██████████| 3/3 [00:00<00:00, 30.21it/s]\n"
     ]
    }
   ],
   "source": [
    "query_vecs = vectorize(queries, pref=\"query: \")"
   ]
  },
  {
   "cell_type": "code",
   "execution_count": 41,
   "metadata": {},
   "outputs": [
    {
     "name": "stdout",
     "output_type": "stream",
     "text": [
      "Какие правила голодных игр?\n",
      "[0.05304961, 0.049881455, 0.006537094, 0.05279775, 0.049019434, -0.025354123, -0.016592989, -0.058351066, 0.043995507, 0.029732578, -0.0053635505, 0.028418316, 0.17047882, 0.037980255, -0.046131313, -0.053106647, 0.028046364, 0.006709769, 0.017089305, 0.026183996, 0.016328951, -0.03578681, 0.017885763, -0.0063233525, 0.025755985, -0.036064174, 0.009998725, 0.03402224, -0.023247937, 0.024673829, 0.030762691, -0.054473262, -0.00026232912, 0.021900875, 0.0240265, 0.021065347, 0.002189402, -0.016787646, 0.002853894, 0.025357524, -0.012233664, -0.013349867, 0.054261386, -0.06845884, 0.008962846, -0.019977212, 0.03098431, -0.0045971773, -0.055024866, -0.047476973, 0.0017279275, 0.025206815, 0.04284553, 0.021489918, -0.05621173, -0.06356004, 0.03876085, 0.028062899, -0.053602245, 0.03184615, 0.0027324294, 0.056962892, -0.015343961, 0.05477506, 0.044966616, -0.018142343, 0.032350183, -0.042801116, -0.04087332, -0.004499426, -0.014831031, -0.0006840422, 0.039676137, 0.0134265665, -0.024863856, -0.015717726, -0.030455038, -0.00229507, 0.011617934, -0.04498319, 0.03555446, -0.0072182207, 0.03518777, 0.035995413, 0.0074129878, -0.018803949, -0.02500587, 0.035679255, 0.01934984, 0.0129232695, 0.06949353, -0.008433612, -0.03279318, 0.014194534, 0.035114046, 0.014218695, 0.024594575, 0.016355801, 0.035175346, -0.043728475, -0.018125148, -0.08271289, -0.011097019, -0.008281486, -0.07538325, -0.028579617, -0.002040833, -0.014620124, 0.036745142, -0.045935377, -0.022509059, 0.038869873, 0.009980177, -0.07945454, 0.017435608, -0.03042773, 0.041684814, 0.012179037, 0.017005865, -0.015702102, 0.0031206594, 0.032372057, -0.03137447, -0.030564798, 0.0059835617, -0.0071662166, -0.021888277, -0.03636577, -0.01299366, -0.06331726, -0.0440309, -0.054190226, 0.030093232, 0.050444957, -0.014971463, 0.039301153, 0.042373843, 1.9696141e-05, -0.002979493, 0.01342044, 0.020449966, -0.05640122, -0.028207002, 0.025083218, 0.03783291, -0.05769121, 0.046491046, -0.010519334, 0.0013447308, 0.035233863, 0.038321022, -0.020388437, -0.0199728, -0.019088455, 0.03561225, -0.029548915, -0.081668295, -0.007365531, -0.016923526, 0.016340764, -0.010701778, 0.006971018, 0.018757805, 0.008317489, 0.013524295, -0.016046623, -0.04894952, 0.015341646, -0.028043281, -0.035290983, -0.022348886, 0.011702514, -0.08895955, 0.037594207, -0.0024621617, -0.045369726, -0.009932594, -0.038068917, -0.040731624, -0.08919246, -0.02076135, -0.053365566, -0.027459953, 0.03306642, 0.04866239, 0.034664463, 0.028562006, -0.012488151, 0.019145591, -0.015137344, -0.012283326, 0.060974788, 0.074698016, 0.02357674, 0.01708652, 0.0068931067, 0.0027097298, 0.028645275, -0.029698674, -0.043263894, 0.045001898, -0.020969857, 0.018606808, 0.03116966, 0.044821247, -0.049346324, 0.0031618867, 0.037475906, 0.031959757, 0.026288917, -0.032478057, 0.061163414, 0.00093018054, 0.0061085066, -0.016350782, -0.03190233, -0.016265148, 0.01396017, -0.03258001, 0.011789159, 0.06467658, -0.042962812, 0.061503507, 0.012929822, -0.009737998, 0.0031800428, -0.0100891795, 0.01038213, 0.00024161965, 0.024240654, 0.07584268, 0.03907753, -0.071941294, 0.05017526, 0.0056184153, -0.010692873, 0.044077836, 0.009753908, -0.030795706, -0.11650802, 0.0072602555, 0.050562896, -0.00782037, -0.025141783, -0.020708967, -0.02560735, -0.019467317, 0.008747376, -0.06257489, 0.019717729, 0.03771519, -0.022114938, 0.03705498, -0.022871437, 0.00053915347, 0.0040890984, -0.031938475, -0.012664277, -0.009216537, 0.03654762, 0.029043432, -0.03291601, -0.021582674, -0.05623054, -0.0044550584, 0.015560886, 0.06371559, -0.0780191, 0.006888116, -0.015352213, -0.028262526, -0.027298952, -0.004178648, 0.060608238, 7.432873e-05, -0.024138423, -0.035709724, 0.051370196, -0.029872991, -0.056766443, -0.01708983, 0.05395371, -0.07769169, -0.033229977, -0.029413745, 0.021177448, -0.10230251, -0.0055854945, -0.067902274, 0.020058801, 0.046511177, 0.06244106, -0.015678637, 0.008538259, 0.08400474, 0.02620387, 0.03887644, -0.023226788, -0.008899009, 0.021463174, -0.01968656, -0.022670023, -0.006284002, -0.0402567, -0.03547491, -0.01951665, 0.094567254, 0.024403516, -0.09712589, 0.02379541, -0.012897847, -0.02747554, -0.06496888, 0.051667966, -0.008692409, -0.020445894, 0.01948525, 0.0442403, 0.033175923, 0.0091372775, -0.043066457, 0.04491148, -0.029007588, -0.007416399, -0.018229933, -0.0034885786, 0.0366929, -0.024270197, 0.04282582, 0.042176683, -0.06462335, 0.038003046, -0.031210156, 0.058461137, -0.07877987, 0.014271434, -0.05508197, -0.040219724, 0.027824135, 0.025934353, 0.0049959417, 0.029371386, 0.025140088, -0.014591165, 0.03255493, -0.0036795398, -0.0059818975, 0.024109099, 0.0044037816, 0.033684153, 0.033421088, -0.080934, 0.010611763, -0.016740005, -0.048845384, 0.012732089, 0.0029762236, -0.00994544, -0.031003043, -0.05781144, -0.053066492, -0.01597173, 0.03686123, -0.011441525, 0.008176493, 0.029285664, -0.041050937, 0.007753593, 0.01942816, 0.0013267314, 0.07737166, 0.07415605, -0.052998904, -0.01997845, 0.014863019, -0.023936452, 0.07190403, -0.049024194, -0.0045714076, 0.040838394, 0.03973208, 0.013499362, -0.022819405, 0.018158972, -0.04145743, 0.051228862, 0.0037691009, -0.076657504, -0.01113031, 0.0085614985, -0.00015005082, -0.019828742, -0.034406442, 0.013447809, -0.0024832857, -0.0062944912, 0.013741626, -0.012770394, 0.027807117, -0.03492272, 0.026656656, 0.024835771, -0.006265909, 0.044323757, 0.04307697, 0.0107554095, 0.008730729, 0.022027435, -0.031850055, -0.06683938, 0.04204094, -0.0064848266, 0.044507183, -0.03129662, -0.016017817, -0.02389868, 0.024348585, 0.04028282, 0.048446383, 0.04733972, -0.015841117, 0.012531207, 0.02389739, 0.028886592, 0.0248207, -0.056268185, 0.023407172, 0.009007354, 0.015707614, -0.052447133, -0.0006378826, 0.009561314, 0.01903249, -0.009528392, 0.05232082, -0.054119475, 0.033714514, 0.0022340734, -0.02050705, 0.024858288, 0.04316737, -0.038444743, 0.02244015, -0.009188805, -0.028043391, 0.025908286, -0.004717953, 0.04805631, -0.019237695, -0.031372488, -0.01956211, 0.0126036955, 0.034802206, 0.006544771, 0.010813213, -0.02685246, 0.041742593, 0.041358784, 0.014233914, -0.09312409, 0.047350097, 0.029595176, -0.011497235, 0.019465495, -0.020079449, -0.045230545, 0.022168413, -0.049849935, 0.010319945, -0.004627985, -0.008522104, -0.014518134, 0.03211933, -0.007940077, 0.028877532, 0.03010462, 0.002077577, 0.014725422, 0.018297203, 0.0067269737, 0.020491216, -0.061906464, -0.04201008, -0.004316994, 0.020159297, 0.060367934, -0.09384749, 0.04347652, 0.026761578, -0.0061126435, 0.015578275, 0.036056682, 0.00091663934, 0.0030231168, -0.03646703, 0.015203454, -0.0044317967, -0.06264747, 0.015717119, -0.0060485564, 0.0053837625, 0.025175754, -0.032553192, 0.022440672, 0.008402248, 0.04049979, 0.009765244, -0.010876111, -0.00066125236, 0.0036398866, 0.11676699, -0.035241872, -0.0037326277, -0.030870816, 0.02205489, 0.011755548, -0.02463432, 0.03904697, 0.030621547, -0.02744978, -0.010157081, 0.0009979998, -0.03816445, -0.013149266, 0.0075014457, -0.0509094, 0.002303207, -0.032762814, 0.012325139, -0.04043625, 0.03339945, -0.042062797, 0.03529237, -0.07027381, -0.08964682, 0.04735199, -0.046147466, -0.05866299, 0.0276958, 0.021427799, -0.004336123, -0.033124965, 0.0128721595, 0.011044195, 0.014672818, -0.0008203254, 0.010508242, -0.05390654, -0.00074749644, -0.0037600626, 0.04011441, 0.004152848, -0.023903172, -0.00017750834, -0.045285296, 0.036386322, 0.0056855553, -0.009542438, 0.026801145, -0.022195939, 0.0009007887, -0.081324995, -0.009796875, 0.01589924, 0.014789741, 0.008041728, 0.03066427, -0.009697897, -0.013794116, 0.061631892, -0.10031524, 0.02508355, 0.043633923, -0.036753226, 0.045224838, 0.01992184, 0.015984736, -0.040354483, 0.012691099, 0.059721194, -0.027388033, -0.0117022, -0.02515544, 0.020501321, 0.040696546, 0.032845117, -0.0050208396, 0.0052009216, -0.19482903, 0.018597035, 0.019735405, -0.0005270021, 0.031687573, 0.06388849, -0.007866258, -0.020180447, 0.008667269, 0.016267011, 0.01793232, -0.040209584, 0.0246577, 0.0044815503, -0.050864935, -0.02965021, -0.024011882, -0.039359894, 0.014063516, 0.048581824, 0.016977165, 0.060770404, -0.017271318, 0.043319408, -0.071801, 0.0015001363, -0.0020251207, 0.024801662, 0.020865057, -0.00041629368, -0.011904847, 0.018941192, 0.026212884, 0.028850462, -0.050516058, 0.011961112, -0.041578174, 0.009932004, -0.07259017, 0.03454777, 0.00023311144, -0.04399884, -0.009698882, 0.01013163, 0.0017136383, 0.052602723, 0.011817386, 0.04631532, 0.0077876523, -0.067638054, 0.064754106, -0.025408894, -0.062453035, 0.020490242, 0.01320657, 0.036602195, 0.01022892, 0.020470636, 0.0030442702, 0.00559714, 0.030579697, 0.038554206, -0.05403192, 0.06964025, 0.0010342137, -0.020105917, 0.006590831, -0.030046232, -0.03460959, -0.025889462, 0.018958861, -0.0184663, -0.03452331, 0.014132121, 0.03964847, 0.020308653, -0.01881217, -0.021157086, -0.040259313, 0.046518728, -0.028401736, -0.073150426, 0.003018243, 0.026581634, -0.03723777, -0.0040673898, -0.027450388, 0.014751923, 0.008266309, 0.018729502, -0.006748835, -0.0337904, 0.007991112, 0.015920918, 0.01460574, -0.006091369, 0.0040223976, 0.027622087, 0.022413185, -0.027904717, 0.0017174854, -0.012264456, -0.061901588, 0.008656709, 0.007297293, -0.03838646, -0.05529377, 0.031072164, 0.013262956, 0.0014451224, 0.0039312714, 0.03473351, 0.08344162, -0.019060692, 0.027862515, -0.05917029, -0.0040869913, -0.035954602, -0.052819327, -0.009054434, -0.0058810795, -0.010500585, 0.00857399, -0.0108694425, 0.052300215, -0.012811233, 0.017666949, 0.030600756, 0.0032452785, 0.06733634, -0.047731373, -0.07083752, -0.02733579, -0.02531279, -0.023350652, -0.015055359, 0.03654846, 0.015811538, 0.05494944, 0.04708047, 0.052650016, -0.050502926, -0.05481989, -0.026625365, 0.016722774, 0.008639473, -0.0080609135, -0.0462553, 0.0050450605, 0.00918764, 0.0037688895, -0.065462, 0.017542755, -0.015973868, -0.0325826, 0.03712611, -0.01350297, -0.011188301, 0.0047726687, -0.0063573085, -0.045297273, -0.02655907, 0.021796333, 0.028035384, 0.00729837, 0.02289596, -0.019545704, -0.005621675, 0.009415313, 0.018401654, -0.042125262, 0.02527273, 0.0019543034, 0.057198662, 0.013606396, 0.00657609, 0.046707325, -0.04828668, -0.035945255, 0.032932024]\n"
     ]
    }
   ],
   "source": [
    "print(query_vecs[0].content)\n",
    "print(query_vecs[0].embedding)"
   ]
  },
  {
   "cell_type": "markdown",
   "metadata": {},
   "source": [
    "#### Seach `by embedding` only"
   ]
  },
  {
   "cell_type": "code",
   "execution_count": 43,
   "metadata": {},
   "outputs": [
    {
     "data": {
      "text/plain": [
       "[<Document: {'content': 'Проигрывать всегда горько. Неистово верить в свою правоту, и всё равно проиграть.', 'content_type': 'text', 'score': 0.90164715051651, 'meta': {'labels': [UUID('f5bced10-6b44-5ba4-bbc0-93ce7cf23f4e')], 'dataframe': None}, 'embedding': '<embedding of shape [no shape]>', 'id': '37c3fd8d7296de6e7f60f63073044af2'}>,\n",
       " <Document: {'content': 'В Дистрикте-12 голодная смерть не редкость. За примерами далеко ходить не надо: старики, не способные больше работать, дети из семей, где слишком много ртов, рабочие, искалеченные в шахтах. Бродил вчера человек по улицам, а сегодня, смотришь, лежит где-нибудь, привалившись к забору, и не шевелится. Или на Луговине наткнешься. А другой раз только плач из домов слышишь. Приедут миротворцы, заберут тело. Власти не признают, что это из-за голода. Официально причина всегда – грипп, переохлаждение или воспаление легких.', 'content_type': 'text', 'score': 0.9013684988021851, 'meta': {'labels': [UUID('721626b0-f98a-55d8-b782-9dd6c2185bd6')], 'dataframe': None}, 'embedding': '<embedding of shape [no shape]>', 'id': '2f68f9588eb4af033e98941ca806733a'}>]"
      ]
     },
     "execution_count": 43,
     "metadata": {},
     "output_type": "execute_result"
    }
   ],
   "source": [
    "store.search_by_embedding(query_embedding=query_vecs[0].embedding, top_k=2)"
   ]
  },
  {
   "cell_type": "markdown",
   "metadata": {},
   "source": [
    "#### Search `by bm25` only"
   ]
  },
  {
   "cell_type": "code",
   "execution_count": 45,
   "metadata": {},
   "outputs": [
    {
     "data": {
      "text/plain": [
       "[<Document: {'content': 'Герой наш поворотился в ту ж минуту к губернаторше и уже готов был отпустить ей ответ, вероятно ничем не хуже тех, какие отпускают в модных повестях Звонские, Линские, Лидины, Гремины и всякие ловкие военные люди, как, невзначай поднявши глаза, остановился вдруг, будто оглушенный ударом.', 'content_type': 'text', 'score': 1.8574644327163696, 'meta': {'labels': [UUID('f9507682-c01d-5f7b-8cb4-437ba795d921')], 'dataframe': None}, 'embedding': None, 'id': 'b3d5e98f550b97faed8dca802838910e'}>,\n",
       " <Document: {'content': '– Будут какие-нибудь советы? – интересуется Пит.\\n– Как только ударят в гонг, скорее уносите ноги. Мясорубка перед Рогом изобилия вам не по зубам. Улепетывайте что есть духу, чем дальше от других, тем лучше, и ищите источник воды. Ясно?\\n– А потом? – спрашиваю я.\\n– А потом постарайтесь выжить, – отвечает Хеймитч.', 'content_type': 'text', 'score': 1.8173242807388306, 'meta': {'labels': [UUID('721626b0-f98a-55d8-b782-9dd6c2185bd6')], 'dataframe': None}, 'embedding': None, 'id': '2ceb216d0d34b742f7133894384faea7'}>]"
      ]
     },
     "execution_count": 45,
     "metadata": {},
     "output_type": "execute_result"
    }
   ],
   "source": [
    "store.search_by_keywords(query=queries[0], top_k=2)"
   ]
  },
  {
   "cell_type": "markdown",
   "metadata": {},
   "source": [
    "#### Search by both `bm25` and `embedding` using `alpha` score to merge the rankings from both"
   ]
  },
  {
   "cell_type": "code",
   "execution_count": 52,
   "metadata": {},
   "outputs": [
    {
     "name": "stderr",
     "output_type": "stream",
     "text": [
      "\u001b[32m2024-06-14 21:40:26.890\u001b[0m | \u001b[1mINFO    \u001b[0m | \u001b[36m__main__\u001b[0m:\u001b[36m<module>\u001b[0m:\u001b[36m8\u001b[0m - \u001b[1m >> | Какие правила голодных игр?\u001b[0m\n",
      "\u001b[32m2024-06-14 21:40:26.891\u001b[0m | \u001b[1mINFO    \u001b[0m | \u001b[36m__main__\u001b[0m:\u001b[36m<module>\u001b[0m:\u001b[36m9\u001b[0m - \u001b[1m\n",
      "DOC[0]\n",
      "– Будут какие-нибудь советы? – интересуется Пит.\n",
      "– Как только ударят в гонг, скорее уносите ноги. Мясорубка перед Рогом изобилия вам не по зубам. Улепетывайте что есть духу, чем дальше от других, тем лучше, и ищите источник воды. Ясно?\n",
      "– А потом? – спрашиваю я.\n",
      "– А потом постарайтесь выжить, – отвечает Хеймитч.\n",
      "---\n",
      "DOC[1]\n",
      "Проигрывать всегда горько. Неистово верить в свою правоту, и всё равно проиграть.\u001b[0m\n"
     ]
    }
   ],
   "source": [
    "alpha = 0.6\n",
    "query = query_vecs[0].content\n",
    "query_emb = query_vecs[0].embedding\n",
    "\n",
    "response = store.search(query=query, query_embedding=query_emb, alpha=alpha, top_k=2)\n",
    "\n",
    "response_docs = \"\\n---\".join([f\"\\nDOC[{str(pos)}]\\n\" + x.content for pos, x in enumerate(response)])\n",
    "logger.info(f\" >> | {query}\")\n",
    "logger.info(response_docs)"
   ]
  },
  {
   "cell_type": "code",
   "execution_count": null,
   "metadata": {},
   "outputs": [],
   "source": []
  }
 ],
 "metadata": {
  "kernelspec": {
   "display_name": "polaroids",
   "language": "python",
   "name": "python3"
  },
  "language_info": {
   "codemirror_mode": {
    "name": "ipython",
    "version": 3
   },
   "file_extension": ".py",
   "mimetype": "text/x-python",
   "name": "python",
   "nbconvert_exporter": "python",
   "pygments_lexer": "ipython3",
   "version": "3.11.5"
  }
 },
 "nbformat": 4,
 "nbformat_minor": 2
}
